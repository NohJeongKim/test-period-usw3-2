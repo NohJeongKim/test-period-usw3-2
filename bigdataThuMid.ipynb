{
 "cells": [
  {
   "cell_type": "markdown",
   "metadata": {},
   "source": [
    "# 선택 정렬 구현하기"
   ]
  },
  {
   "cell_type": "code",
   "execution_count": 42,
   "metadata": {},
   "outputs": [],
   "source": [
    "A=[1, 37, 9, 7, 2, 4]"
   ]
  },
  {
   "cell_type": "code",
   "execution_count": 43,
   "metadata": {},
   "outputs": [
    {
     "name": "stdout",
     "output_type": "stream",
     "text": [
      "0 5\n",
      "1 4\n",
      "2 3\n",
      "3 2\n",
      "4 1\n"
     ]
    }
   ],
   "source": [
    "for step, idx in enumerate(range(len(A)-1, 0, -1)):\n",
    "    print(step, idx)"
   ]
  },
  {
   "cell_type": "code",
   "execution_count": 59,
   "metadata": {},
   "outputs": [],
   "source": [
    "A=[1, 37, 9, 7, 2, 4]"
   ]
  },
  {
   "cell_type": "code",
   "execution_count": 60,
   "metadata": {},
   "outputs": [],
   "source": [
    "def selectionSort(A):\n",
    "    for step, last in enumerate(range(len(A)-1, 0, -1)): # (5, 0, -1), step : 단계, last : 오른쪽에 위치한 값들의 인덱스\n",
    "        # print(step, last) step : 0 ~ 4, last : 5 ~ 1\n",
    "        k=theLargest(A,last)\n",
    "        A[k], A[last] = A[last], A[k]\n",
    "        print(step, A)\n",
    " \n",
    "def theLargest(A, last:int) -> int:\n",
    "    largest=0\n",
    "    for i in range(last+1): # i : 0 ~ 5, 모든 인덱스\n",
    "        if A[i] > A[largest]: # 0 ~ 5\n",
    "            largest = i\n",
    "    return largest"
   ]
  },
  {
   "cell_type": "code",
   "execution_count": 61,
   "metadata": {},
   "outputs": [
    {
     "name": "stdout",
     "output_type": "stream",
     "text": [
      "0 [1, 4, 9, 7, 2, 37]\n",
      "1 [1, 4, 2, 7, 9, 37]\n",
      "2 [1, 4, 2, 7, 9, 37]\n",
      "3 [1, 2, 4, 7, 9, 37]\n",
      "4 [1, 2, 4, 7, 9, 37]\n"
     ]
    }
   ],
   "source": [
    "selectionSort(A)"
   ]
  },
  {
   "cell_type": "markdown",
   "metadata": {},
   "source": [
    "# 버블 정렬 구현하기"
   ]
  },
  {
   "cell_type": "code",
   "execution_count": 67,
   "metadata": {},
   "outputs": [
    {
     "name": "stdout",
     "output_type": "stream",
     "text": [
      "0 6\n",
      "1 5\n",
      "2 4\n",
      "3 3\n",
      "4 2\n"
     ]
    }
   ],
   "source": [
    "for step, numElements in enumerate(range(len(A), 1, -1)):\n",
    "    print(step, numElements)"
   ]
  },
  {
   "cell_type": "code",
   "execution_count": 70,
   "metadata": {},
   "outputs": [],
   "source": [
    "A=[1, 37, 9, 7, 2, 4]"
   ]
  },
  {
   "cell_type": "code",
   "execution_count": 71,
   "metadata": {},
   "outputs": [],
   "source": [
    "def bubbleSort(A):\n",
    "    for step, numElements in enumerate(range(len(A), 1, -1)): # step : 과정, numElements : 6 ~ 2\n",
    "        for i in range(numElements-1): # i : 0 ~ 5, 모든 인덱스\n",
    "            if A[i] > A[i+1]: # 더 크면\n",
    "                A[i], A[i+1] = A[i+1], A[i] # 자리를 옮겨주기.\n",
    "        print(step, A)"
   ]
  },
  {
   "cell_type": "code",
   "execution_count": 72,
   "metadata": {},
   "outputs": [
    {
     "name": "stdout",
     "output_type": "stream",
     "text": [
      "0 [1, 9, 7, 2, 4, 37]\n",
      "1 [1, 7, 2, 4, 9, 37]\n",
      "2 [1, 2, 4, 7, 9, 37]\n",
      "3 [1, 2, 4, 7, 9, 37]\n",
      "4 [1, 2, 4, 7, 9, 37]\n"
     ]
    }
   ],
   "source": [
    "bubbleSort(A)"
   ]
  },
  {
   "cell_type": "markdown",
   "metadata": {},
   "source": [
    "# 삽입 정렬 구현하기"
   ]
  },
  {
   "cell_type": "code",
   "execution_count": 88,
   "metadata": {},
   "outputs": [],
   "source": [
    "A=[1, 37, 9, 7, 2, 4]"
   ]
  },
  {
   "cell_type": "code",
   "execution_count": 89,
   "metadata": {},
   "outputs": [],
   "source": [
    "def insertionSort(A):\n",
    "    for i in range(1, len(A)): # i : 1 ~ 5\n",
    "        loc = i-1 # loc : 0 ~ 4 : 모든 인덱스\n",
    "        newItem = A[i] # newItem : A 배열 모든 요소\n",
    "        while loc >= 0 and newItem < A[loc]: # loc = 2 가정, newItem = 7, A[loc] = A[2] = 9, 7 < 9 만족\n",
    "            A[loc+1] = A[loc] \n",
    "            loc -= 1 \n",
    "        A[loc+1] =newItem\n",
    "        print(i, A)"
   ]
  },
  {
   "cell_type": "code",
   "execution_count": 90,
   "metadata": {},
   "outputs": [
    {
     "name": "stdout",
     "output_type": "stream",
     "text": [
      "1 [1, 37, 9, 7, 2, 4]\n",
      "2 [1, 9, 37, 7, 2, 4]\n",
      "3 [1, 7, 9, 37, 2, 4]\n",
      "4 [1, 2, 7, 9, 37, 4]\n",
      "5 [1, 2, 4, 7, 9, 37]\n"
     ]
    }
   ],
   "source": [
    "insertionSort(A)"
   ]
  },
  {
   "cell_type": "code",
   "execution_count": 4,
   "metadata": {},
   "outputs": [
    {
     "name": "stdout",
     "output_type": "stream",
     "text": [
      "단어의 종류 :  357864\n",
      "단어의 개수 :  1137742\n"
     ]
    }
   ],
   "source": [
    "IF=open(\"ratings_train.txt\", \"r\", encoding='UTF8')\n",
    "\n",
    "lst_word = []\n",
    "for line in IF:\n",
    "    s=line.strip().split(\"\\t\")\n",
    "    lst_word += s[1].split(\" \")\n",
    "    \n",
    "set_word = set(lst_word)\n",
    "print(\"단어의 종류 : \", len(set_word))\n",
    "print(\"단어의 개수 : \", len(lst_word))"
   ]
  },
  {
   "cell_type": "code",
   "execution_count": 20,
   "metadata": {},
   "outputs": [
    {
     "data": {
      "text/plain": [
       "[['영화', 54],\n",
       " ['정말', 39],\n",
       " ['진짜', 30],\n",
       " ['너무', 27],\n",
       " ['이', 21],\n",
       " ['더', 19],\n",
       " ['왜', 18],\n",
       " ['보고', 18],\n",
       " ['그냥', 16],\n",
       " ['다', 15]]"
      ]
     },
     "execution_count": 20,
     "metadata": {},
     "output_type": "execute_result"
    }
   ],
   "source": [
    "def freq_on_list(lst_word):\n",
    "    set_word = set(lst_word)\n",
    "    lst_word_freq = [[word,0] for word in set_word] # 0 으로 옆에 채워서 이중 리스트 만들기.\n",
    "    for word in lst_word:\n",
    "        for i in range(len(lst_word)): # 행의 개수 만큼 돌린다.\n",
    "            if word == lst_word_freq[i][0]: # 만약에 word와 1st_word_freq가 같으면\n",
    "                lst_word_freq[i][1] += 1 # +1 시켜준다.\n",
    "                break\n",
    "    return lst_word_freq\n",
    "\n",
    "result=freq_on_list(lst_word[0:5000])\n",
    "sorted(result, key=lambda x: x[1], reverse=True)[0:10]"
   ]
  },
  {
   "cell_type": "code",
   "execution_count": 21,
   "metadata": {},
   "outputs": [
    {
     "data": {
      "text/plain": [
       "[('영화', 54),\n",
       " ('정말', 39),\n",
       " ('진짜', 30),\n",
       " ('너무', 27),\n",
       " ('이', 21),\n",
       " ('더', 19),\n",
       " ('왜', 18),\n",
       " ('보고', 18),\n",
       " ('그냥', 16),\n",
       " ('다', 15)]"
      ]
     },
     "execution_count": 21,
     "metadata": {},
     "output_type": "execute_result"
    }
   ],
   "source": [
    "def freq_on_dict(lst_word):\n",
    "    set_word = set(lst_word)\n",
    "    dic_word_freq = dict([[word,0] for word in set_word]) # dict으로 처리해준 것 빼고 동일하다.\n",
    "    for word in lst_word: \n",
    "        dic_word_freq[word] += 1 # 1개씩 추가시켜준다.\n",
    "    return list(dic_word_freq.items()) # 리스트 형태로 반환시킨다.\n",
    "\n",
    "result=freq_on_dict(lst_word[0:5000])\n",
    "sorted(result, key=lambda x: x[1], reverse=True)[0:10]"
   ]
  },
  {
   "cell_type": "code",
   "execution_count": null,
   "metadata": {},
   "outputs": [],
   "source": []
  }
 ],
 "metadata": {
  "kernelspec": {
   "display_name": "Python 3.10.5 64-bit",
   "language": "python",
   "name": "python3"
  },
  "language_info": {
   "codemirror_mode": {
    "name": "ipython",
    "version": 3
   },
   "file_extension": ".py",
   "mimetype": "text/x-python",
   "name": "python",
   "nbconvert_exporter": "python",
   "pygments_lexer": "ipython3",
   "version": "3.10.5"
  },
  "orig_nbformat": 4,
  "vscode": {
   "interpreter": {
    "hash": "6d66cf3ba63e426ac30e41586740f23a79d698e8b73a8f729dd325c1490658eb"
   }
  }
 },
 "nbformat": 4,
 "nbformat_minor": 2
}
